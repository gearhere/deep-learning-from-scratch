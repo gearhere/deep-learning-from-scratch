{
 "cells": [
  {
   "cell_type": "markdown",
   "metadata": {
    "toc": true
   },
   "source": [
    "<h1>Table of Contents<span class=\"tocSkip\"></span></h1>\n",
    "<div class=\"toc\"><ul class=\"toc-item\"><li><span><a href=\"#Neural-Network\" data-toc-modified-id=\"Neural-Network-1\"><span class=\"toc-item-num\">1&nbsp;&nbsp;</span>Neural Network</a></span><ul class=\"toc-item\"><li><span><a href=\"#Activation-Function\" data-toc-modified-id=\"Activation-Function-1.1\"><span class=\"toc-item-num\">1.1&nbsp;&nbsp;</span>Activation Function</a></span><ul class=\"toc-item\"><li><span><a href=\"#阶跃函数（step-function）\" data-toc-modified-id=\"阶跃函数（step-function）-1.1.1\"><span class=\"toc-item-num\">1.1.1&nbsp;&nbsp;</span>阶跃函数（step function）</a></span></li><li><span><a href=\"#阶跃函数的图形\" data-toc-modified-id=\"阶跃函数的图形-1.1.2\"><span class=\"toc-item-num\">1.1.2&nbsp;&nbsp;</span>阶跃函数的图形</a></span></li><li><span><a href=\"#sigmoid函数的实现\" data-toc-modified-id=\"sigmoid函数的实现-1.1.3\"><span class=\"toc-item-num\">1.1.3&nbsp;&nbsp;</span>sigmoid函数的实现</a></span></li><li><span><a href=\"#sigmoid函数的图形\" data-toc-modified-id=\"sigmoid函数的图形-1.1.4\"><span class=\"toc-item-num\">1.1.4&nbsp;&nbsp;</span>sigmoid函数的图形</a></span></li><li><span><a href=\"#ReLU函数（Rectified-Linear-Unit）\" data-toc-modified-id=\"ReLU函数（Rectified-Linear-Unit）-1.1.5\"><span class=\"toc-item-num\">1.1.5&nbsp;&nbsp;</span>ReLU函数（Rectified Linear Unit）</a></span></li></ul></li><li><span><a href=\"#多维数组的运算\" data-toc-modified-id=\"多维数组的运算-1.2\"><span class=\"toc-item-num\">1.2&nbsp;&nbsp;</span>多维数组的运算</a></span><ul class=\"toc-item\"><li><span><a href=\"#多维数组\" data-toc-modified-id=\"多维数组-1.2.1\"><span class=\"toc-item-num\">1.2.1&nbsp;&nbsp;</span>多维数组</a></span><ul class=\"toc-item\"><li><span><a href=\"#Numpy，数组，矩阵和向量\" data-toc-modified-id=\"Numpy，数组，矩阵和向量-1.2.1.1\"><span class=\"toc-item-num\">1.2.1.1&nbsp;&nbsp;</span>Numpy，数组，矩阵和向量</a></span></li></ul></li><li><span><a href=\"#矩阵乘法\" data-toc-modified-id=\"矩阵乘法-1.2.2\"><span class=\"toc-item-num\">1.2.2&nbsp;&nbsp;</span>矩阵乘法</a></span></li><li><span><a href=\"#神经网络的内积\" data-toc-modified-id=\"神经网络的内积-1.2.3\"><span class=\"toc-item-num\">1.2.3&nbsp;&nbsp;</span>神经网络的内积</a></span></li></ul></li><li><span><a href=\"#3层神经网络的实现\" data-toc-modified-id=\"3层神经网络的实现-1.3\"><span class=\"toc-item-num\">1.3&nbsp;&nbsp;</span>3层神经网络的实现</a></span><ul class=\"toc-item\"><li><span><a href=\"#符号含义\" data-toc-modified-id=\"符号含义-1.3.1\"><span class=\"toc-item-num\">1.3.1&nbsp;&nbsp;</span>符号含义</a></span></li><li><span><a href=\"#代码小结\" data-toc-modified-id=\"代码小结-1.3.2\"><span class=\"toc-item-num\">1.3.2&nbsp;&nbsp;</span>代码小结</a></span></li></ul></li><li><span><a href=\"#输出层的设计\" data-toc-modified-id=\"输出层的设计-1.4\"><span class=\"toc-item-num\">1.4&nbsp;&nbsp;</span>输出层的设计</a></span><ul class=\"toc-item\"><li><span><a href=\"#softmax函数\" data-toc-modified-id=\"softmax函数-1.4.1\"><span class=\"toc-item-num\">1.4.1&nbsp;&nbsp;</span>softmax函数</a></span></li><li><span><a href=\"#实现softmax函数的注意事项\" data-toc-modified-id=\"实现softmax函数的注意事项-1.4.2\"><span class=\"toc-item-num\">1.4.2&nbsp;&nbsp;</span>实现softmax函数的注意事项</a></span></li></ul></li><li><span><a href=\"#手写数字识别\" data-toc-modified-id=\"手写数字识别-1.5\"><span class=\"toc-item-num\">1.5&nbsp;&nbsp;</span>手写数字识别</a></span></li></ul></li></ul></div>"
   ]
  },
  {
   "cell_type": "markdown",
   "metadata": {},
   "source": [
    "# Neural Network"
   ]
  },
  {
   "cell_type": "markdown",
   "metadata": {},
   "source": [
    "> 神经网络的一个重要性质是它可以自动地从数据中学习到合适的权重参数。"
   ]
  },
  {
   "cell_type": "markdown",
   "metadata": {},
   "source": [
    "**输入层**\n",
    "\n",
    "**输出层**\n",
    "\n",
    "**中间层/隐藏层**\n",
    "\n",
    "![neuron_model](img/neuron_model.jpeg)"
   ]
  },
  {
   "cell_type": "markdown",
   "metadata": {},
   "source": [
    "## Activation Function"
   ]
  },
  {
   "cell_type": "markdown",
   "metadata": {},
   "source": [
    "$$\n",
    "a = b + w_{1}x_{1} + w_{2}x_{2}\n",
    "$$\n",
    "\n",
    "<center>激活函数：$\\begin{equation}\n",
    "h(a) =\\left\\{\n",
    "\\begin{aligned}\n",
    "0 \\ (a \\le 0) \\\\\n",
    "1 \\ (a > 0) \\\\\n",
    "\\end{aligned}\n",
    "\\right.\n",
    "\\end{equation}$</center>\n",
    "\n",
    "<center>输出：$y =h(a)$</center>"
   ]
  },
  {
   "cell_type": "markdown",
   "metadata": {},
   "source": [
    "**Q: 有了激活函数，那偏置的意义是什么？**"
   ]
  },
  {
   "cell_type": "markdown",
   "metadata": {},
   "source": [
    "> 一般而言，“朴素感知机”是指单层网络，指的是激活函数使用了**阶跃函数**的模型。“多层感知机”是指神经网络，即使用**sigmoid函数**等平滑的激活函数的多层网络。"
   ]
  },
  {
   "cell_type": "markdown",
   "metadata": {},
   "source": [
    "sigmoid函数（sigmoid function）：$$h(x) = \\frac{1}{1+e^{-x}}$$"
   ]
  },
  {
   "cell_type": "markdown",
   "metadata": {},
   "source": [
    "### 阶跃函数（step function）"
   ]
  },
  {
   "cell_type": "code",
   "execution_count": 2,
   "metadata": {
    "collapsed": true
   },
   "outputs": [],
   "source": [
    "import numpy as np"
   ]
  },
  {
   "cell_type": "code",
   "execution_count": 2,
   "metadata": {
    "collapsed": true
   },
   "outputs": [],
   "source": [
    "def step_function(x):\n",
    "    if x > 0:\n",
    "        return 1\n",
    "    else:\n",
    "        return 0"
   ]
  },
  {
   "cell_type": "code",
   "execution_count": 6,
   "metadata": {},
   "outputs": [
    {
     "data": {
      "text/plain": [
       "array([0, 1, 1, 1, 0])"
      ]
     },
     "execution_count": 6,
     "metadata": {},
     "output_type": "execute_result"
    }
   ],
   "source": [
    "def step_function(x):\n",
    "    y = x > 0\n",
    "    return y.astype(np.int)\n",
    "\n",
    "x_s = np.array([0, 1, 2, 3, -1])\n",
    "step_function(x_s)"
   ]
  },
  {
   "cell_type": "markdown",
   "metadata": {},
   "source": [
    "### 阶跃函数的图形"
   ]
  },
  {
   "cell_type": "code",
   "execution_count": 3,
   "metadata": {
    "collapsed": true
   },
   "outputs": [],
   "source": [
    "import matplotlib.pylab as plt"
   ]
  },
  {
   "cell_type": "code",
   "execution_count": 10,
   "metadata": {},
   "outputs": [
    {
     "data": {
      "image/png": "[encoded data removed]",
      "text/plain": [
       "<matplotlib.figure.Figure at 0x7c81f98>"
      ]
     },
     "metadata": {},
     "output_type": "display_data"
    }
   ],
   "source": [
    "def step_function(x):\n",
    "    return np.array(x > 0, dtype=np.int)\n",
    "\n",
    "x = np.arange(-5.0, 5.0, 0.1) # 在[-5.0, 5.0]范围内，以0.1为单位，生成Numpy数组\n",
    "y = step_function(x)\n",
    "plt.plot(x,y)\n",
    "plt.ylim(-0.1, 1.1)\n",
    "plt.show()"
   ]
  },
  {
   "cell_type": "markdown",
   "metadata": {},
   "source": [
    "### sigmoid函数的实现"
   ]
  },
  {
   "cell_type": "code",
   "execution_count": 18,
   "metadata": {},
   "outputs": [
    {
     "data": {
      "text/plain": [
       "array([0.26894142, 0.73105858, 0.88079708])"
      ]
     },
     "execution_count": 18,
     "metadata": {},
     "output_type": "execute_result"
    }
   ],
   "source": [
    "def sigmoid(x):\n",
    "    return 1 / (1 + np.exp(-x))\n",
    "\n",
    "x = np.array([-1.0, 1.0, 2.0])\n",
    "sigmoid(x)"
   ]
  },
  {
   "cell_type": "markdown",
   "metadata": {},
   "source": [
    "### sigmoid函数的图形"
   ]
  },
  {
   "cell_type": "code",
   "execution_count": 39,
   "metadata": {},
   "outputs": [
    {
     "data": {
      "image/png": "[encoded data removed]",
      "text/plain": [
       "<matplotlib.figure.Figure at 0x84c3d68>"
      ]
     },
     "metadata": {},
     "output_type": "display_data"
    }
   ],
   "source": [
    "x = np.arange(-5.0, 5.0, 0.1)\n",
    "y = sigmoid(x)\n",
    "plt.plot(x,y)\n",
    "plt.ylim(-0.1, 1.1)\n",
    "plt.show()"
   ]
  },
  {
   "cell_type": "markdown",
   "metadata": {},
   "source": [
    "sigmoid函数的平滑性对神经网络的学习具有重要意义。\n",
    "\n",
    "> 感知机中神经元之间流动的是0或1的二元信号，而神经网络中流动的是连续的实数数值信号。\n",
    "\n",
    "阶跃函数像“竹筒敲石”，而sigmoid函数则像“水车”，但两者都是非线性函数。\n",
    "\n",
    "> 当输入信号为重要信息时，阶跃函数和sigmoid函数都会输出较大的值；当输入信号为不重要的信息时，两者都输出较小的值。还有一个共同点是，不管输入信号有多小，或者有多大，输出信号的值都在0到1之间。\n",
    "\n",
    "神经网络的激活函数必须使用**非线性函数**，否则加深神经网络层数无意义，即无论如何加深层数，总是存在与原线性函数等效的“无隐藏层的神经网络”。"
   ]
  },
  {
   "cell_type": "markdown",
   "metadata": {},
   "source": [
    "### ReLU函数（Rectified Linear Unit）"
   ]
  },
  {
   "cell_type": "markdown",
   "metadata": {},
   "source": [
    "\\begin{equation}\n",
    "h(x) =\\left\\{\n",
    "\\begin{aligned}\n",
    "x \\ (x > 0) \\\\\n",
    "0 \\ (x \\le 0) \\\\\n",
    "\\end{aligned}\n",
    "\\right.\n",
    "\\end{equation}"
   ]
  },
  {
   "cell_type": "code",
   "execution_count": 9,
   "metadata": {},
   "outputs": [
    {
     "data": {
      "image/png": "[encoded data removed]",
      "text/plain": [
       "<Figure size 432x288 with 1 Axes>"
      ]
     },
     "metadata": {
      "needs_background": "light"
     },
     "output_type": "display_data"
    }
   ],
   "source": [
    "def relu(x):\n",
    "    return np.maximum(0, x)\n",
    "\n",
    "x = np.arange(-0.5, 0.5, 0.1)\n",
    "y = relu(x)\n",
    "\n",
    "plt.plot(x,y)\n",
    "plt.ylim(-0.1, 0.5)\n",
    "plt.show()"
   ]
  },
  {
   "cell_type": "markdown",
   "metadata": {},
   "source": [
    "## 多维数组的运算"
   ]
  },
  {
   "cell_type": "markdown",
   "metadata": {},
   "source": [
    "### 多维数组"
   ]
  },
  {
   "cell_type": "code",
   "execution_count": 76,
   "metadata": {},
   "outputs": [
    {
     "name": "stdout",
     "output_type": "stream",
     "text": [
      "[1 2 3 4]\n",
      "\n",
      "\n",
      "1\n",
      "\n",
      "\n",
      "(4,)\n",
      "\n",
      "\n",
      "4\n"
     ]
    }
   ],
   "source": [
    "A = np.array([1, 2, 3, 4])\n",
    "\n",
    "print(A)\n",
    "print('\\n')\n",
    "\n",
    "print(np.ndim(A))       # 数组的维度\n",
    "print('\\n')\n",
    "\n",
    "print(A.shape)          # 数组的形状，返回结果是一个元组,先列后行\n",
    "print('\\n')\n",
    "\n",
    "print(A.shape[0])"
   ]
  },
  {
   "cell_type": "code",
   "execution_count": 77,
   "metadata": {},
   "outputs": [
    {
     "name": "stdout",
     "output_type": "stream",
     "text": [
      "\n",
      "\n",
      "[[[1 2]\n",
      "  [3 4]]\n",
      "\n",
      " [[5 6]\n",
      "  [7 8]]]\n",
      "\n",
      "\n",
      "2\n"
     ]
    }
   ],
   "source": [
    "# 三维数组\n",
    "\n",
    "B = np.arange(1, 9)\n",
    "print('\\n')\n",
    "\n",
    "B.shape = 2,2,2\n",
    "\n",
    "print(B)\n",
    "print('\\n')\n",
    "\n",
    "print(B.shape[1])"
   ]
  },
  {
   "cell_type": "code",
   "execution_count": 71,
   "metadata": {},
   "outputs": [
    {
     "name": "stdout",
     "output_type": "stream",
     "text": [
      "(4,)\n",
      "\n",
      "\n",
      "2\n",
      "\n",
      "\n",
      "(1, 4)\n",
      "\n",
      "\n",
      "1\n",
      "\n",
      "\n",
      "4\n"
     ]
    }
   ],
   "source": [
    "C = np.array([[1, 2, 3, 4]])\n",
    "print(A.shape)\n",
    "print('\\n')\n",
    "\n",
    "print(np.ndim(C))\n",
    "print('\\n')\n",
    "\n",
    "print(C.shape)\n",
    "print('\\n')\n",
    "\n",
    "print(C.shape[0])\n",
    "print('\\n')\n",
    "\n",
    "print(C.shape[1])"
   ]
  },
  {
   "cell_type": "code",
   "execution_count": 78,
   "metadata": {},
   "outputs": [
    {
     "name": "stdout",
     "output_type": "stream",
     "text": [
      "2\n",
      "\n",
      "\n",
      "(3, 3)\n",
      "\n",
      "\n",
      "[[1 2 3]\n",
      " [4 5 6]\n",
      " [7 8 9]]\n",
      "\n",
      "\n",
      "[[[1 2]\n",
      "  [3 4]]\n",
      "\n",
      " [[5 6]\n",
      "  [7 8]]]\n",
      "\n",
      "\n",
      "(2, 2, 2)\n"
     ]
    }
   ],
   "source": [
    "D = np.array([[1, 2, 3],[4, 5, 6],[7, 8, 9]])\n",
    "\n",
    "print(np.ndim(D))\n",
    "print('\\n')\n",
    "\n",
    "print(D.shape)\n",
    "print('\\n')\n",
    "\n",
    "print(D)\n",
    "print('\\n')\n",
    "\n",
    "# 手动创建一个和B一样的数组\n",
    "E = np.array([[[1, 2],[3, 4]],[[5, 6],[7, 8]]])\n",
    "\n",
    "print(E)\n",
    "print('\\n')\n",
    "\n",
    "print(E.shape)"
   ]
  },
  {
   "cell_type": "markdown",
   "metadata": {},
   "source": [
    "#### Numpy，数组，矩阵和向量"
   ]
  },
  {
   "cell_type": "markdown",
   "metadata": {},
   "source": [
    "一个向量是一个特殊的矩阵，向量是只有一列的矩阵。\n",
    "\n",
    "> 矩阵乘法的本质是线性空间运动的描述。\n",
    "\n",
    "**Q: 矩阵全都可以用二维数组表示，高维数组可以表示什么？ → 张量**\n",
    "\n",
    "[图解NumPy](https://zhuanlan.zhihu.com/p/73295997)"
   ]
  },
  {
   "cell_type": "markdown",
   "metadata": {},
   "source": [
    "### 矩阵乘法"
   ]
  },
  {
   "cell_type": "code",
   "execution_count": 86,
   "metadata": {},
   "outputs": [
    {
     "name": "stdout",
     "output_type": "stream",
     "text": [
      "[[ 5 12]\n",
      " [21 32]]\n",
      "\n",
      "\n",
      "[[19 22]\n",
      " [43 50]]\n",
      "\n",
      "\n",
      "[[19 22]\n",
      " [43 50]]\n"
     ]
    }
   ],
   "source": [
    "F = np.array([[1, 2], [3, 4]])\n",
    "G = np.array([[5, 6], [7, 8]])\n",
    "print(F * G)\n",
    "print('\\n')\n",
    "\n",
    "print(np.dot(F, G))\n",
    "print('\\n')\n",
    "\n",
    "F = np.matrix([[1, 2], [3, 4]])\n",
    "G = np.matrix([[5, 6], [7, 8]])\n",
    "print(F * G)                       # 记得用shape确定对应维度的元素个数是否一致"
   ]
  },
  {
   "cell_type": "markdown",
   "metadata": {},
   "source": [
    "### 神经网络的内积"
   ]
  },
  {
   "cell_type": "markdown",
   "metadata": {},
   "source": [
    "先省略偏置和激活函数，构建一个只有权重的简单神经网络："
   ]
  },
  {
   "cell_type": "code",
   "execution_count": 11,
   "metadata": {
    "scrolled": false
   },
   "outputs": [
    {
     "name": "stdout",
     "output_type": "stream",
     "text": [
      "(1, 2)\n",
      "(2, 3)\n",
      "[[ 5 11 15]]\n",
      "2\n"
     ]
    }
   ],
   "source": [
    "X = np.array([[1, 2]])\n",
    "print(X.shape)\n",
    "W = np.array([[1, 3, 5], [2 ,4 ,5]])\n",
    "print(W.shape)\n",
    "\n",
    "Y = np.dot(X, W)\n",
    "print(Y)\n",
    "print(np.ndim(Y))"
   ]
  },
  {
   "cell_type": "markdown",
   "metadata": {},
   "source": [
    "**数组维度对计算结果维度的影响**"
   ]
  },
  {
   "cell_type": "code",
   "execution_count": 12,
   "metadata": {
    "scrolled": false
   },
   "outputs": [
    {
     "name": "stdout",
     "output_type": "stream",
     "text": [
      "(2,)\n",
      "(2, 3)\n",
      "[ 5 11 15]\n",
      "1\n"
     ]
    }
   ],
   "source": [
    "X = np.array([1, 2])\n",
    "print(X.shape)\n",
    "W = np.array([[1, 3, 5], [2 ,4 ,5]])\n",
    "print(W.shape)\n",
    "\n",
    "Y = np.dot(X, W)\n",
    "print(Y)\n",
    "print(np.ndim(Y))"
   ]
  },
  {
   "cell_type": "markdown",
   "metadata": {},
   "source": [
    "## 3层神经网络的实现"
   ]
  },
  {
   "cell_type": "markdown",
   "metadata": {},
   "source": [
    "以3层神经网络为对象，实现从输入到输出的**前向传播（forward propagation）**。\n",
    "\n",
    "**Q: 如何定义前向传播？**\n",
    "\n",
    "![3层神经网络](img/3layers_network.jpg)"
   ]
  },
  {
   "cell_type": "markdown",
   "metadata": {},
   "source": [
    "### 符号含义"
   ]
  },
  {
   "cell_type": "markdown",
   "metadata": {},
   "source": [
    "![symbol](img/symbol.jpg)"
   ]
  },
  {
   "cell_type": "markdown",
   "metadata": {},
   "source": [
    "$$a^{(1)}_{1} = w^{(1)}_{11}x_{1} + w^{(1)}_{12}x_{2} + b^{(1)}_{1}$$\n",
    "\n",
    "第一层加权和表示如下：\n",
    "\n",
    "$$A^{(1)} = XW^{(1)} + B^{(1)}$$\n",
    "\n",
    "$$\n",
    "A^{(1)} = (a^{(1)}_{1}\\ a^{(1)}_{2}\\ a^{(1)}_{3})\n",
    "\\quad X = (x_{1}\\ x_{2})\n",
    "\\quad B^{(1)} = (b^{(1)}_{1}\\ b^{(1)}_{2}\\ b^{(1)}_{3})\n",
    "\\quad W^{(1)} = \\left(\n",
    " \\begin{matrix}\n",
    "   w^{(1)}_{11} & w^{(1)}_{21} & w^{(1)}_{31} \\\\\n",
    "   w^{(1)}_{12} & w^{(1)}_{22} & w^{(1)}_{32}\n",
    "  \\end{matrix}\n",
    "  \\right)\n",
    "$$"
   ]
  },
  {
   "cell_type": "code",
   "execution_count": 17,
   "metadata": {},
   "outputs": [
    {
     "name": "stdout",
     "output_type": "stream",
     "text": [
      "(2,)\n",
      "(2, 3)\n",
      "(3,)\n"
     ]
    }
   ],
   "source": [
    "X = np.array([1.0, 0.5])\n",
    "W1 = np.array([[0.1, 0.3, 0.5], [0.2, 0.4, 0.6]])\n",
    "B1 = np.array([0.1, 0.2, 0.3])\n",
    "np.a\n",
    "print(X.shape)\n",
    "print(W1.shape)\n",
    "print(B1.shape)\n",
    "\n",
    "A1 = np.dot(X, W1) + B1"
   ]
  },
  {
   "cell_type": "code",
   "execution_count": 20,
   "metadata": {
    "scrolled": true
   },
   "outputs": [
    {
     "name": "stdout",
     "output_type": "stream",
     "text": [
      "[0.3 0.7 1.1]\n",
      "[0.57444252 0.66818777 0.75026011]\n"
     ]
    }
   ],
   "source": [
    "Z1 = sigmoid(A1)\n",
    "print(A1)\n",
    "print(Z1)"
   ]
  },
  {
   "cell_type": "code",
   "execution_count": 31,
   "metadata": {},
   "outputs": [
    {
     "name": "stdout",
     "output_type": "stream",
     "text": [
      "(3,)\n",
      "(3, 2)\n",
      "(2,)\n"
     ]
    }
   ],
   "source": [
    "# 第1层到第2层的信号传递\n",
    "W2 = np.array([[0.1, 0.4], [0.2, 0.5], [0.3, 0.6]])\n",
    "B2 = np.array([0.1, 0.2])\n",
    "\n",
    "print(Z1.shape)\n",
    "print(W2.shape)\n",
    "print(B2.shape)\n",
    "\n",
    "A2 = np.dot(Z1, W2) + B2\n",
    "Z2 = sigmoid(A2)"
   ]
  },
  {
   "cell_type": "code",
   "execution_count": 32,
   "metadata": {},
   "outputs": [
    {
     "name": "stdout",
     "output_type": "stream",
     "text": [
      "[0.31682708 0.69627909]\n"
     ]
    }
   ],
   "source": [
    "def identity_function(x):\n",
    "    return x\n",
    "\n",
    "W3 = np.array([[0.1, 0.3], [0.2, 0.4]])\n",
    "B3 = np.array([0.1, 0.2])\n",
    "\n",
    "A3 = np.dot(Z2, W3) + B3\n",
    "Y = identity_function(A3)\n",
    "\n",
    "print(Y)"
   ]
  },
  {
   "cell_type": "markdown",
   "metadata": {},
   "source": [
    "### 代码小结"
   ]
  },
  {
   "cell_type": "markdown",
   "metadata": {},
   "source": [
    "按照惯例，只把权重记为大写字母，其他的（偏置、中间结果）均用小写字母。"
   ]
  },
  {
   "cell_type": "code",
   "execution_count": 33,
   "metadata": {},
   "outputs": [
    {
     "name": "stdout",
     "output_type": "stream",
     "text": [
      "[0.31682708 0.69627909]\n"
     ]
    }
   ],
   "source": [
    "def init_network():\n",
    "    network = {}\n",
    "    network['W1'] = np.array([[0.1, 0.3, 0.5], [0.2, 0.4, 0.6]])\n",
    "    network['b1'] = np.array([0.1, 0.2, 0.3])\n",
    "    network['W2'] = np.array([[0.1, 0.4], [0.2, 0.5], [0.3, 0.6]])\n",
    "    network['b2'] = np.array([0.1, 0.2])\n",
    "    network['W3'] = np.array([[0.1, 0.3], [0.2, 0.4]])\n",
    "    network['b3'] = np.array([0.1, 0.2])\n",
    "    \n",
    "    return network\n",
    "\n",
    "def forward(network, x):\n",
    "    W1, W2, W3 = network['W1'], network['W2'], network['W3']\n",
    "    b1, b2, b3 = network['b1'], network['b2'], network['b3']\n",
    "    a1 = np.dot(x, W1) + b1\n",
    "    z1 = sigmoid(a1)\n",
    "    a2 = np.dot(z1, W2) + b2\n",
    "    z2 = sigmoid(a2)\n",
    "    a3 = np.dot(z2, W3) + b3\n",
    "    y = identity_function(a3)\n",
    "    return y\n",
    "\n",
    "network = init_network()\n",
    "x = np.array([1.0, 0.5])\n",
    "y = forward(network, x)\n",
    "print(y)"
   ]
  },
  {
   "cell_type": "markdown",
   "metadata": {},
   "source": [
    "## 输出层的设计"
   ]
  },
  {
   "cell_type": "markdown",
   "metadata": {},
   "source": [
    "> 神经网络可以用在分类问题和回归问题上，不过需要根据情况改变输出层的激活函数。一般而言，**回归问题用恒等函数**，**分类问题用softmax 函数**。"
   ]
  },
  {
   "cell_type": "markdown",
   "metadata": {},
   "source": [
    "### softmax函数"
   ]
  },
  {
   "cell_type": "markdown",
   "metadata": {},
   "source": [
    "$$\n",
    "y^{k} = \\frac{exp(a_{k})}{\\sum_{i=1}^{n}exp(a_{i})}\n",
    "$$"
   ]
  },
  {
   "cell_type": "code",
   "execution_count": 34,
   "metadata": {
    "collapsed": true
   },
   "outputs": [],
   "source": [
    "def softmax(a):\n",
    "    exp_a = np.exp(a)\n",
    "    sum_exp_a = np.sum(exp_a)\n",
    "    y = exp_a / sum_exp_a\n",
    "    \n",
    "    return y"
   ]
  },
  {
   "cell_type": "markdown",
   "metadata": {},
   "source": [
    "### 实现softmax函数的注意事项"
   ]
  },
  {
   "cell_type": "markdown",
   "metadata": {},
   "source": [
    "**溢出问题**\n",
    "\n",
    "> 计算机处理“数”时，数值必须在4 字节或8 字节的有限数据宽度内。这意味着数存在有效位数，也就是说，可以表示的数值范围是有限的。因此，会出现超大值无法表示的问题。这个问题称为溢出，在进行计算机的运算时必须（常常）注意。\n",
    "\n",
    "改进函数：\n",
    "\n",
    "$$\n",
    "y^{k}\n",
    "= \\frac{exp(a_{k})}{\\sum_{i=1}^{n}exp(a_{i})}\n",
    "= \\frac{Cexp(a_{k})}{C\\sum_{i=1}^{n}exp(a_{i})}\n",
    "= \\frac{exp(a_{k}) + logC}{\\sum_{i=1}^{n}exp(a_{i}) + logC}\n",
    "= \\frac{exp(a_{k}) + {C}'}{\\sum_{i=1}^{n}exp(a_{i}) + {C}'}\n",
    "$$\n",
    "\n",
    "> 上式说明，在进行softmax 的指数函数的运算时，加上（或者减去）某个常数并不会改变运算的结果。这里的C'可以使用任何值，但是为了防止溢出，一般会使用输入信号中的最大值。"
   ]
  },
  {
   "cell_type": "code",
   "execution_count": 35,
   "metadata": {
    "collapsed": true
   },
   "outputs": [],
   "source": [
    "def softmax(a):\n",
    "    c = np.max(a)\n",
    "    exp_a = np.exp(a - c)        #溢出对策\n",
    "    sum_exp_a = np.sum(exp_a)\n",
    "    y = exp_a / sum_exp_a\n",
    "    \n",
    "    return y"
   ]
  },
  {
   "cell_type": "markdown",
   "metadata": {},
   "source": [
    "softmax函数的输出是0.0 到1.0之间的实数，且softmax函数的输出值的总和是1，因此可以把softmax 函数的输出解释为**概率**。\n",
    "\n",
    "> 一般而言，神经网络只把输出值最大的神经元所对应的类别作为识别结果。并且，即便使用softmax 函数，输出值最大的神经元的位置也不会变。因此，神经网络在进行分类时，输出层的softmax 函数可以省略。在实际的问题中，由于指数函数的运算需要一定的计算机运算量，因此输出层的softmax 函数一般会被省略。\n",
    ">> 输出层的神经元数量需要根据待解决的问题来决定。对于分类问题，输出层的神经元数量一般设定为类别的数量。"
   ]
  },
  {
   "cell_type": "markdown",
   "metadata": {},
   "source": [
    "## 手写数字识别"
   ]
  },
  {
   "cell_type": "markdown",
   "metadata": {},
   "source": [
    "https://www.ituring.com.cn/book/1921\n",
    "\n",
    "这里还未涉及学习过程，只做推理阶段的演示。"
   ]
  }
 ],
 "metadata": {
  "kernelspec": {
   "display_name": "Python 3",
   "language": "python",
   "name": "python3"
  },
  "language_info": {
   "codemirror_mode": {
    "name": "ipython",
    "version": 3
   },
   "file_extension": ".py",
   "mimetype": "text/x-python",
   "name": "python",
   "nbconvert_exporter": "python",
   "pygments_lexer": "ipython3",
   "version": "3.5.2"
  },
  "toc": {
   "base_numbering": 1,
   "nav_menu": {},
   "number_sections": true,
   "sideBar": true,
   "skip_h1_title": false,
   "title_cell": "Table of Contents",
   "title_sidebar": "Contents",
   "toc_cell": true,
   "toc_position": {},
   "toc_section_display": true,
   "toc_window_display": true
  }
 },
 "nbformat": 4,
 "nbformat_minor": 2
}
